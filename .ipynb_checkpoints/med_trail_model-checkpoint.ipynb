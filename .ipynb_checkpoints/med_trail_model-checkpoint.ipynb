{
 "cells": [
  {
   "cell_type": "markdown",
   "id": "9c8dee23",
   "metadata": {},
   "source": [
    "# Clinical Trail Model"
   ]
  },
  {
   "cell_type": "code",
   "execution_count": 42,
   "id": "b8500618",
   "metadata": {},
   "outputs": [],
   "source": [
    "import numpy as np\n",
    "from random import randint\n",
    "from sklearn.utils import shuffle\n",
    "from sklearn.preprocessing import MinMaxScaler\n",
    "\n",
    "import tensorflow as tf\n",
    "from tensorflow import keras\n",
    "from tensorflow.keras.models import Sequential\n",
    "from tensorflow.keras.layers import Activation, Dense\n",
    "from tensorflow.keras.optimizers import Adam\n",
    "from tensorflow.keras.metrics import categorical_crossentropy\n",
    "\n",
    "%matplotlib inline\n",
    "from sklearn.metrics import confusion_matrix\n",
    "import itertools\n",
    "import matplotlib.pyplot as plt\n",
    "\n",
    "import os.path\n",
    "from tensorflow.keras.models import load_model"
   ]
  },
  {
   "cell_type": "code",
   "execution_count": 34,
   "id": "71e77f4f",
   "metadata": {},
   "outputs": [],
   "source": [
    "train_labels = []\n",
    "train_samples = []"
   ]
  },
  {
   "cell_type": "markdown",
   "id": "8db91211",
   "metadata": {},
   "source": [
    "Example Data:\n",
    "An experimental drug was tested on individuals ranging from age 13 to 100 in a clinical trial. The trial had 2100 participants. Half of the participants were under 65 years old, and the other half was 65 years of age or older. 95% of patients 65 or older experienced side effects, and around 95% of patients under 65 experienced no side effects.\n",
    "\n",
    "Ultimately, we want to build a model to tell us whether or not a patient will experience side effects solely based on the patient's age. The judgement of the model will be based on the training data.\n",
    "\n",
    "The block of code below shows how to generate this dummy data:"
   ]
  },
  {
   "cell_type": "markdown",
   "id": "92af670f",
   "metadata": {},
   "source": [
    "# Data preparation and processing"
   ]
  },
  {
   "cell_type": "code",
   "execution_count": 3,
   "id": "393bb8cb",
   "metadata": {},
   "outputs": [],
   "source": [
    "for i in range(50):\n",
    "    # The ~5% of younger individuals who did experience side effects\n",
    "    random_younger = randint(13,64)\n",
    "    train_samples.append(random_younger)\n",
    "    train_labels.append(1)\n",
    "\n",
    "    # The ~5% of older individuals who did not experience side effects\n",
    "    random_older = randint(65,100)\n",
    "    train_samples.append(random_older)\n",
    "    train_labels.append(0)\n",
    "\n",
    "for i in range(1000):\n",
    "    # The ~95% of younger individuals who did not experience side effects\n",
    "    random_younger = randint(13,64)\n",
    "    train_samples.append(random_younger)\n",
    "    train_labels.append(0)\n",
    "\n",
    "    # The ~95% of older individuals who did experience side effects\n",
    "    random_older = randint(65,100)\n",
    "    train_samples.append(random_older)\n",
    "    train_labels.append(1)"
   ]
  },
  {
   "cell_type": "code",
   "execution_count": 6,
   "id": "f12675fb",
   "metadata": {},
   "outputs": [],
   "source": [
    "train_labels = np.array(train_labels)\n",
    "train_samples = np.array(train_samples)\n",
    "train_labels, train_samples = shuffle(train_labels, train_samples)"
   ]
  },
  {
   "cell_type": "code",
   "execution_count": 7,
   "id": "8b723f57",
   "metadata": {},
   "outputs": [],
   "source": [
    "scaler = MinMaxScaler(feature_range=(0,1))\n",
    "scaled_train_samples = scaler.fit_transform(train_samples.reshape(-1,1))"
   ]
  },
  {
   "cell_type": "markdown",
   "id": "697fc2ea",
   "metadata": {},
   "source": [
    "# Simple tf.Karas Sequencial Model:"
   ]
  },
  {
   "cell_type": "code",
   "execution_count": 10,
   "id": "5ee3d3d6",
   "metadata": {},
   "outputs": [],
   "source": [
    "model = Sequential([\n",
    "    Dense(units=16, input_shape=(1,), activation='relu'),\n",
    "    Dense(units=32, activation='relu'),\n",
    "    Dense(units=2, activation='softmax')\n",
    "])"
   ]
  },
  {
   "cell_type": "code",
   "execution_count": 11,
   "id": "b9911b18",
   "metadata": {},
   "outputs": [
    {
     "name": "stdout",
     "output_type": "stream",
     "text": [
      "Model: \"sequential\"\n",
      "_________________________________________________________________\n",
      " Layer (type)                Output Shape              Param #   \n",
      "=================================================================\n",
      " dense (Dense)               (None, 16)                32        \n",
      "                                                                 \n",
      " dense_1 (Dense)             (None, 32)                544       \n",
      "                                                                 \n",
      " dense_2 (Dense)             (None, 2)                 66        \n",
      "                                                                 \n",
      "=================================================================\n",
      "Total params: 642\n",
      "Trainable params: 642\n",
      "Non-trainable params: 0\n",
      "_________________________________________________________________\n"
     ]
    }
   ],
   "source": [
    "model.summary()"
   ]
  },
  {
   "cell_type": "code",
   "execution_count": 12,
   "id": "85207d9c",
   "metadata": {},
   "outputs": [],
   "source": [
    "model.compile(optimizer=Adam(learning_rate=0.0001), loss='sparse_categorical_crossentropy', metrics=['accuracy'])"
   ]
  },
  {
   "cell_type": "code",
   "execution_count": 18,
   "id": "9c074144",
   "metadata": {},
   "outputs": [
    {
     "name": "stdout",
     "output_type": "stream",
     "text": [
      "Epoch 1/30\n",
      "189/189 - 0s - loss: 0.2405 - accuracy: 0.9450 - val_loss: 0.1636 - val_accuracy: 0.9714 - 255ms/epoch - 1ms/step\n",
      "Epoch 2/30\n",
      "189/189 - 0s - loss: 0.2404 - accuracy: 0.9481 - val_loss: 0.1625 - val_accuracy: 0.9667 - 223ms/epoch - 1ms/step\n",
      "Epoch 3/30\n",
      "189/189 - 0s - loss: 0.2404 - accuracy: 0.9450 - val_loss: 0.1623 - val_accuracy: 0.9667 - 221ms/epoch - 1ms/step\n",
      "Epoch 4/30\n",
      "189/189 - 0s - loss: 0.2402 - accuracy: 0.9471 - val_loss: 0.1617 - val_accuracy: 0.9667 - 220ms/epoch - 1ms/step\n",
      "Epoch 5/30\n",
      "189/189 - 0s - loss: 0.2401 - accuracy: 0.9434 - val_loss: 0.1628 - val_accuracy: 0.9714 - 223ms/epoch - 1ms/step\n",
      "Epoch 6/30\n",
      "189/189 - 0s - loss: 0.2399 - accuracy: 0.9450 - val_loss: 0.1627 - val_accuracy: 0.9714 - 221ms/epoch - 1ms/step\n",
      "Epoch 7/30\n",
      "189/189 - 0s - loss: 0.2400 - accuracy: 0.9487 - val_loss: 0.1613 - val_accuracy: 0.9667 - 223ms/epoch - 1ms/step\n",
      "Epoch 8/30\n",
      "189/189 - 0s - loss: 0.2398 - accuracy: 0.9423 - val_loss: 0.1609 - val_accuracy: 0.9667 - 224ms/epoch - 1ms/step\n",
      "Epoch 9/30\n",
      "189/189 - 0s - loss: 0.2399 - accuracy: 0.9450 - val_loss: 0.1621 - val_accuracy: 0.9667 - 223ms/epoch - 1ms/step\n",
      "Epoch 10/30\n",
      "189/189 - 0s - loss: 0.2395 - accuracy: 0.9471 - val_loss: 0.1619 - val_accuracy: 0.9667 - 224ms/epoch - 1ms/step\n",
      "Epoch 11/30\n",
      "189/189 - 0s - loss: 0.2394 - accuracy: 0.9460 - val_loss: 0.1619 - val_accuracy: 0.9667 - 217ms/epoch - 1ms/step\n",
      "Epoch 12/30\n",
      "189/189 - 0s - loss: 0.2393 - accuracy: 0.9434 - val_loss: 0.1619 - val_accuracy: 0.9667 - 221ms/epoch - 1ms/step\n",
      "Epoch 13/30\n",
      "189/189 - 0s - loss: 0.2392 - accuracy: 0.9423 - val_loss: 0.1623 - val_accuracy: 0.9714 - 223ms/epoch - 1ms/step\n",
      "Epoch 14/30\n",
      "189/189 - 0s - loss: 0.2391 - accuracy: 0.9466 - val_loss: 0.1623 - val_accuracy: 0.9714 - 220ms/epoch - 1ms/step\n",
      "Epoch 15/30\n",
      "189/189 - 0s - loss: 0.2390 - accuracy: 0.9455 - val_loss: 0.1619 - val_accuracy: 0.9667 - 218ms/epoch - 1ms/step\n",
      "Epoch 16/30\n",
      "189/189 - 0s - loss: 0.2388 - accuracy: 0.9460 - val_loss: 0.1615 - val_accuracy: 0.9667 - 224ms/epoch - 1ms/step\n",
      "Epoch 17/30\n",
      "189/189 - 0s - loss: 0.2388 - accuracy: 0.9481 - val_loss: 0.1616 - val_accuracy: 0.9667 - 226ms/epoch - 1ms/step\n",
      "Epoch 18/30\n",
      "189/189 - 0s - loss: 0.2387 - accuracy: 0.9439 - val_loss: 0.1624 - val_accuracy: 0.9714 - 225ms/epoch - 1ms/step\n",
      "Epoch 19/30\n",
      "189/189 - 0s - loss: 0.2385 - accuracy: 0.9439 - val_loss: 0.1623 - val_accuracy: 0.9714 - 227ms/epoch - 1ms/step\n",
      "Epoch 20/30\n",
      "189/189 - 0s - loss: 0.2384 - accuracy: 0.9476 - val_loss: 0.1615 - val_accuracy: 0.9714 - 222ms/epoch - 1ms/step\n",
      "Epoch 21/30\n",
      "189/189 - 0s - loss: 0.2382 - accuracy: 0.9503 - val_loss: 0.1616 - val_accuracy: 0.9667 - 220ms/epoch - 1ms/step\n",
      "Epoch 22/30\n",
      "189/189 - 0s - loss: 0.2382 - accuracy: 0.9439 - val_loss: 0.1615 - val_accuracy: 0.9714 - 221ms/epoch - 1ms/step\n",
      "Epoch 23/30\n",
      "189/189 - 0s - loss: 0.2380 - accuracy: 0.9439 - val_loss: 0.1615 - val_accuracy: 0.9667 - 223ms/epoch - 1ms/step\n",
      "Epoch 24/30\n",
      "189/189 - 0s - loss: 0.2380 - accuracy: 0.9487 - val_loss: 0.1613 - val_accuracy: 0.9667 - 222ms/epoch - 1ms/step\n",
      "Epoch 25/30\n",
      "189/189 - 0s - loss: 0.2381 - accuracy: 0.9444 - val_loss: 0.1624 - val_accuracy: 0.9714 - 225ms/epoch - 1ms/step\n",
      "Epoch 26/30\n",
      "189/189 - 0s - loss: 0.2377 - accuracy: 0.9444 - val_loss: 0.1619 - val_accuracy: 0.9714 - 227ms/epoch - 1ms/step\n",
      "Epoch 27/30\n",
      "189/189 - 0s - loss: 0.2377 - accuracy: 0.9471 - val_loss: 0.1610 - val_accuracy: 0.9667 - 221ms/epoch - 1ms/step\n",
      "Epoch 28/30\n",
      "189/189 - 0s - loss: 0.2375 - accuracy: 0.9481 - val_loss: 0.1615 - val_accuracy: 0.9714 - 222ms/epoch - 1ms/step\n",
      "Epoch 29/30\n",
      "189/189 - 0s - loss: 0.2376 - accuracy: 0.9455 - val_loss: 0.1614 - val_accuracy: 0.9714 - 221ms/epoch - 1ms/step\n",
      "Epoch 30/30\n",
      "189/189 - 0s - loss: 0.2373 - accuracy: 0.9492 - val_loss: 0.1601 - val_accuracy: 0.9667 - 221ms/epoch - 1ms/step\n"
     ]
    },
    {
     "data": {
      "text/plain": [
       "<keras.callbacks.History at 0x29733fac2e0>"
      ]
     },
     "execution_count": 18,
     "metadata": {},
     "output_type": "execute_result"
    }
   ],
   "source": [
    "model.fit(x=scaled_train_samples, y=train_labels, validation_split=0.1, batch_size=10, epochs=30, verbose=2)"
   ]
  },
  {
   "cell_type": "code",
   "execution_count": 19,
   "id": "87889e19",
   "metadata": {},
   "outputs": [],
   "source": [
    "test_labels =  []\n",
    "test_samples = []"
   ]
  },
  {
   "cell_type": "code",
   "execution_count": 20,
   "id": "fb634a11",
   "metadata": {},
   "outputs": [],
   "source": [
    "for i in range(10):\n",
    "    # The 5% of younger individuals who did experience side effects\n",
    "    random_younger = randint(13,64)\n",
    "    test_samples.append(random_younger)\n",
    "    test_labels.append(1)\n",
    "\n",
    "    # The 5% of older individuals who did not experience side effects\n",
    "    random_older = randint(65,100)\n",
    "    test_samples.append(random_older)\n",
    "    test_labels.append(0)\n",
    "\n",
    "for i in range(200):\n",
    "    # The 95% of younger individuals who did not experience side effects\n",
    "    random_younger = randint(13,64)\n",
    "    test_samples.append(random_younger)\n",
    "    test_labels.append(0)\n",
    "\n",
    "    # The 95% of older individuals who did experience side effects\n",
    "    random_older = randint(65,100)\n",
    "    test_samples.append(random_older)\n",
    "    test_labels.append(1)"
   ]
  },
  {
   "cell_type": "code",
   "execution_count": 21,
   "id": "f0733c2b",
   "metadata": {},
   "outputs": [],
   "source": [
    "test_labels = np.array(test_labels)\n",
    "test_samples = np.array(test_samples)\n",
    "test_labels, test_samples = shuffle(test_labels, test_samples)"
   ]
  },
  {
   "cell_type": "code",
   "execution_count": 22,
   "id": "960d5598",
   "metadata": {},
   "outputs": [],
   "source": [
    "scaled_test_samples = scaler.fit_transform(test_samples.reshape(-1,1))"
   ]
  },
  {
   "cell_type": "markdown",
   "id": "8079f526",
   "metadata": {},
   "source": [
    "# Predict"
   ]
  },
  {
   "cell_type": "code",
   "execution_count": 25,
   "id": "b29c120f",
   "metadata": {},
   "outputs": [],
   "source": [
    "predictions = model.predict(\n",
    "      x=scaled_test_samples\n",
    "    , batch_size=10\n",
    "    , verbose=0\n",
    ") "
   ]
  },
  {
   "cell_type": "code",
   "execution_count": 29,
   "id": "7bb2dc7c",
   "metadata": {},
   "outputs": [],
   "source": [
    "cm = confusion_matrix(y_true=test_labels, y_pred=rounded_predictions)"
   ]
  },
  {
   "cell_type": "code",
   "execution_count": 30,
   "id": "9ca54e5e",
   "metadata": {},
   "outputs": [],
   "source": [
    "def plot_confusion_matrix(cm, classes,\n",
    "                        normalize=False,\n",
    "                        title='Confusion matrix',\n",
    "                        cmap=plt.cm.Blues):\n",
    "    \"\"\"\n",
    "    This function prints and plots the confusion matrix.\n",
    "    Normalization can be applied by setting `normalize=True`.\n",
    "    \"\"\"\n",
    "    plt.imshow(cm, interpolation='nearest', cmap=cmap)\n",
    "    plt.title(title)\n",
    "    plt.colorbar()\n",
    "    tick_marks = np.arange(len(classes))\n",
    "    plt.xticks(tick_marks, classes, rotation=45)\n",
    "    plt.yticks(tick_marks, classes)\n",
    "\n",
    "    if normalize:\n",
    "        cm = cm.astype('float') / cm.sum(axis=1)[:, np.newaxis]\n",
    "        print(\"Normalized confusion matrix\")\n",
    "    else:\n",
    "        print('Confusion matrix, without normalization')\n",
    "\n",
    "    print(cm)\n",
    "\n",
    "    thresh = cm.max() / 2.\n",
    "    for i, j in itertools.product(range(cm.shape[0]), range(cm.shape[1])):\n",
    "        plt.text(j, i, cm[i, j],\n",
    "            horizontalalignment=\"center\",\n",
    "            color=\"white\" if cm[i, j] > thresh else \"black\")\n",
    "\n",
    "    plt.tight_layout()\n",
    "    plt.ylabel('True label')\n",
    "    plt.xlabel('Predicted label')"
   ]
  },
  {
   "cell_type": "code",
   "execution_count": 31,
   "id": "e749081e",
   "metadata": {},
   "outputs": [],
   "source": [
    "cm_plot_labels = ['no_side_effects','had_side_effects']"
   ]
  },
  {
   "cell_type": "code",
   "execution_count": 32,
   "id": "cfd5253f",
   "metadata": {},
   "outputs": [
    {
     "name": "stdout",
     "output_type": "stream",
     "text": [
      "Confusion matrix, without normalization\n",
      "[[195  15]\n",
      " [ 10 200]]\n"
     ]
    },
    {
     "data": {
      "image/png": "[encoded data removed]",
      "text/plain": [
       "<Figure size 432x288 with 2 Axes>"
      ]
     },
     "metadata": {
      "needs_background": "light"
     },
     "output_type": "display_data"
    }
   ],
   "source": [
    "plot_confusion_matrix(cm=cm, classes=cm_plot_labels, title='Confusion Matrix')"
   ]
  },
  {
   "cell_type": "code",
   "execution_count": 48,
   "id": "a910be07",
   "metadata": {},
   "outputs": [],
   "source": [
    "# check first to see if the file is saved already.\n",
    "# if not, then save the file.\n",
    "#if os.path.isfile('Models\\med_trail_model.h5') is false:\n",
    "model.save('Models/medical_trial_model.h5')\n"
   ]
  },
  {
   "cell_type": "code",
   "execution_count": 49,
   "id": "a2ef9b16",
   "metadata": {},
   "outputs": [],
   "source": [
    "new_model = load_model('Models/medical_trial_model.h5')"
   ]
  },
  {
   "cell_type": "code",
   "execution_count": 50,
   "id": "aaa4cfbd",
   "metadata": {},
   "outputs": [
    {
     "name": "stdout",
     "output_type": "stream",
     "text": [
      "Model: \"sequential\"\n",
      "_________________________________________________________________\n",
      " Layer (type)                Output Shape              Param #   \n",
      "=================================================================\n",
      " dense (Dense)               (None, 16)                32        \n",
      "                                                                 \n",
      " dense_1 (Dense)             (None, 32)                544       \n",
      "                                                                 \n",
      " dense_2 (Dense)             (None, 2)                 66        \n",
      "                                                                 \n",
      "=================================================================\n",
      "Total params: 642\n",
      "Trainable params: 642\n",
      "Non-trainable params: 0\n",
      "_________________________________________________________________\n"
     ]
    }
   ],
   "source": [
    "new_model.summary()"
   ]
  },
  {
   "cell_type": "code",
   "execution_count": 51,
   "id": "88c6edb2",
   "metadata": {},
   "outputs": [
    {
     "data": {
      "text/plain": [
       "<keras.optimizer_v2.adam.Adam at 0x2972cbc0d90>"
      ]
     },
     "execution_count": 51,
     "metadata": {},
     "output_type": "execute_result"
    }
   ],
   "source": [
    "model.optimizer"
   ]
  },
  {
   "cell_type": "code",
   "execution_count": 52,
   "id": "6d638029",
   "metadata": {},
   "outputs": [
    {
     "data": {
      "text/plain": [
       "'sparse_categorical_crossentropy'"
      ]
     },
     "execution_count": 52,
     "metadata": {},
     "output_type": "execute_result"
    }
   ],
   "source": [
    "model.loss"
   ]
  },
  {
   "cell_type": "code",
   "execution_count": 53,
   "id": "1e0de057",
   "metadata": {},
   "outputs": [
    {
     "data": {
      "text/plain": [
       "'{\"class_name\": \"Sequential\", \"config\": {\"name\": \"sequential\", \"layers\": [{\"class_name\": \"InputLayer\", \"config\": {\"batch_input_shape\": [null, 1], \"dtype\": \"float32\", \"sparse\": false, \"ragged\": false, \"name\": \"dense_input\"}}, {\"class_name\": \"Dense\", \"config\": {\"name\": \"dense\", \"trainable\": true, \"batch_input_shape\": [null, 1], \"dtype\": \"float32\", \"units\": 16, \"activation\": \"relu\", \"use_bias\": true, \"kernel_initializer\": {\"class_name\": \"GlorotUniform\", \"config\": {\"seed\": null}}, \"bias_initializer\": {\"class_name\": \"Zeros\", \"config\": {}}, \"kernel_regularizer\": null, \"bias_regularizer\": null, \"activity_regularizer\": null, \"kernel_constraint\": null, \"bias_constraint\": null}}, {\"class_name\": \"Dense\", \"config\": {\"name\": \"dense_1\", \"trainable\": true, \"dtype\": \"float32\", \"units\": 32, \"activation\": \"relu\", \"use_bias\": true, \"kernel_initializer\": {\"class_name\": \"GlorotUniform\", \"config\": {\"seed\": null}}, \"bias_initializer\": {\"class_name\": \"Zeros\", \"config\": {}}, \"kernel_regularizer\": null, \"bias_regularizer\": null, \"activity_regularizer\": null, \"kernel_constraint\": null, \"bias_constraint\": null}}, {\"class_name\": \"Dense\", \"config\": {\"name\": \"dense_2\", \"trainable\": true, \"dtype\": \"float32\", \"units\": 2, \"activation\": \"softmax\", \"use_bias\": true, \"kernel_initializer\": {\"class_name\": \"GlorotUniform\", \"config\": {\"seed\": null}}, \"bias_initializer\": {\"class_name\": \"Zeros\", \"config\": {}}, \"kernel_regularizer\": null, \"bias_regularizer\": null, \"activity_regularizer\": null, \"kernel_constraint\": null, \"bias_constraint\": null}}]}, \"keras_version\": \"2.8.0\", \"backend\": \"tensorflow\"}'"
      ]
     },
     "execution_count": 53,
     "metadata": {},
     "output_type": "execute_result"
    }
   ],
   "source": [
    "json_string = model.to_json()\n",
    "json_string"
   ]
  },
  {
   "cell_type": "code",
   "execution_count": 54,
   "id": "c503c03f",
   "metadata": {},
   "outputs": [],
   "source": [
    "model.save_weights('models/my_model_weights.h5')"
   ]
  },
  {
   "cell_type": "code",
   "execution_count": 55,
   "id": "b92e8032",
   "metadata": {},
   "outputs": [],
   "source": [
    "model2 = Sequential([\n",
    "    Dense(units=16, input_shape=(1,), activation='relu'),\n",
    "    Dense(units=32, activation='relu'),\n",
    "    Dense(units=2, activation='softmax')\n",
    "])\n",
    "\n",
    "model2.load_weights('models/my_model_weights.h5')"
   ]
  },
  {
   "cell_type": "code",
   "execution_count": 56,
   "id": "322ddea7",
   "metadata": {},
   "outputs": [
    {
     "name": "stdout",
     "output_type": "stream",
     "text": [
      "Model: \"sequential_1\"\n",
      "_________________________________________________________________\n",
      " Layer (type)                Output Shape              Param #   \n",
      "=================================================================\n",
      " dense_3 (Dense)             (None, 16)                32        \n",
      "                                                                 \n",
      " dense_4 (Dense)             (None, 32)                544       \n",
      "                                                                 \n",
      " dense_5 (Dense)             (None, 2)                 66        \n",
      "                                                                 \n",
      "=================================================================\n",
      "Total params: 642\n",
      "Trainable params: 642\n",
      "Non-trainable params: 0\n",
      "_________________________________________________________________\n"
     ]
    }
   ],
   "source": [
    "model2.summary()"
   ]
  },
  {
   "cell_type": "code",
   "execution_count": null,
   "id": "a828a76c",
   "metadata": {},
   "outputs": [],
   "source": []
  }
 ],
 "metadata": {
  "kernelspec": {
   "display_name": "Python 3 (ipykernel)",
   "language": "python",
   "name": "python3"
  },
  "language_info": {
   "codemirror_mode": {
    "name": "ipython",
    "version": 3
   },
   "file_extension": ".py",
   "mimetype": "text/x-python",
   "name": "python",
   "nbconvert_exporter": "python",
   "pygments_lexer": "ipython3",
   "version": "3.9.7"
  }
 },
 "nbformat": 4,
 "nbformat_minor": 5
}
